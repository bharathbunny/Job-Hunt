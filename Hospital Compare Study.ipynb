{
 "cells": [
  {
   "cell_type": "markdown",
   "metadata": {},
   "source": [
    "#       Understanding the Relationship between Patient Survey Ratings and                    Overall Hospital Ratings\n",
    "\n",
    "####Kasi Bharath Vegesana"
   ]
  },
  {
   "cell_type": "markdown",
   "metadata": {},
   "source": [
    "The purpose of this study is to observe the relationship of a hospitals overall rating to patient survey metrics that have been collected by hospitals and other medical centers.\n",
    "In this study we will use data from the Hospital Compare website as aggregated by the Government Medicare website https://data.medicare.gov/data/hospital-compare"
   ]
  },
  {
   "cell_type": "code",
   "execution_count": 1,
   "metadata": {
    "collapsed": false
   },
   "outputs": [],
   "source": [
    "import numpy as np\n",
    "import pandas as pd\n",
    "import matplotlib.pyplot as plt\n",
    "from scipy.stats import pearsonr\n",
    "from sklearn import linear_model\n",
    "from sklearn.linear_model import Ridge\n",
    "from sklearn.preprocessing import PolynomialFeatures\n",
    "from sklearn.ensemble import RandomForestRegressor, ExtraTreesRegressor, AdaBoostRegressor\n",
    "from sklearn.feature_selection import RFE\n",
    "from sklearn.pipeline import make_pipeline\n",
    "%matplotlib inline"
   ]
  },
  {
   "cell_type": "markdown",
   "metadata": {},
   "source": [
    "The Medicare website provides over 50 csv files for analysis. These files contain data at the individual hospital level, state level and national level. The data covers various metrics that could be used to evaluate a hospitals performance. These range from quantitative data like medicare payments and readmission rates to more qualitative data like patient satisfaction, as obtained from a survey. \n",
    "\n",
    "The data of interest to us is the Hospital Consumer Assessment of Healthcare Providers and Systems (HCAHPS) Patient Survey. is a survey instrument and data collection methodology for measuring patients’ perceptions of their hospital experience. The survey is administered to a random sample of adult inpatients after discharge. \n",
    "\n",
    "The HCAHPS survey contains patient perspectives on care and patient rating items that encompass key topics: communication with hospital staff, responsiveness of hospital staff, pain management, communication about medicines, discharge information, cleanliness of hospital environment, quietness of hospital environment, and transition of care. In addition to this data, we will also take a brief look at hospital readmision rates to observe avenues for future analysis."
   ]
  },
  {
   "cell_type": "code",
   "execution_count": 2,
   "metadata": {
    "collapsed": false
   },
   "outputs": [],
   "source": [
    "hcahsp = pd.read_csv('HCAHPS - Hospital.csv')\n",
    "rdeathsp = pd.read_csv('Readmissions and Deaths - Hospital.csv')"
   ]
  },
  {
   "cell_type": "markdown",
   "metadata": {},
   "source": [
    "We have data availability for all 50 states. However, for demonstrative puposes I have chosen to concentrate only on Virginia based hospitals."
   ]
  },
  {
   "cell_type": "code",
   "execution_count": 3,
   "metadata": {
    "collapsed": false
   },
   "outputs": [],
   "source": [
    "uvahsp = hcahsp[(hcahsp['State'] == 'VA')]\n",
    "uvadeaths = rdeathsp[(rdeathsp['State'] == 'VA')]"
   ]
  },
  {
   "cell_type": "markdown",
   "metadata": {},
   "source": [
    "Before we talk a look at the patient surveys, let us see if the overall rating of the hospitals is in any way corelated to the overall 30-day readmision score for patients. The following cell merges the hopital rating data and 30-day readmisiion score data and plots a graph for the hospital rating vs readmission score. \n",
    "\n",
    "The corelation between these two variables is also calculated using the pearson corelation factor and the associated p-value. We can see that there is a very weak corealtion between the two variables at a 95% confidence interval. "
   ]
  },
  {
   "cell_type": "code",
   "execution_count": 4,
   "metadata": {
    "collapsed": false
   },
   "outputs": [
    {
     "name": "stderr",
     "output_type": "stream",
     "text": [
      "C:\\Users\\kasi Bharat\\Anaconda\\lib\\site-packages\\matplotlib\\collections.py:590: FutureWarning: elementwise comparison failed; returning scalar instead, but in the future will perform elementwise comparison\n",
      "  if self._edgecolors == str('face'):\n"
     ]
    },
    {
     "data": {
      "image/png": "[encoded data removed]",
      "text/plain": [
       "<matplotlib.figure.Figure at 0x22cada20>"
      ]
     },
     "metadata": {},
     "output_type": "display_data"
    },
    {
     "data": {
      "text/plain": [
       "(-0.19483996204619736, 0.093911016148445728)"
      ]
     },
     "execution_count": 4,
     "metadata": {},
     "output_type": "execute_result"
    }
   ],
   "source": [
    "tempnorf1 = uvahsp[(uvahsp['HCAHPS Measure ID']=='H_HSP_RATING_LINEAR_SCORE')]\n",
    "tempnorf2 = uvadeaths[(uvadeaths['Measure ID']=='READM_30_HOSP_WIDE')]\n",
    "jointable=pd.merge(tempnorf1[tempnorf1['HCAHPS Linear Mean Value']!='Not Available'],tempnorf2,\n",
    "                   on='Hospital Name',how='inner')\n",
    "plt.scatter([jointable['HCAHPS Linear Mean Value'].values],[jointable['Score'].values])\n",
    "plt.xlabel('Hospital rating')\n",
    "plt.ylabel('Readmission Score')\n",
    "plt.show()\n",
    "pearsonr(jointable['HCAHPS Linear Mean Value'].values.astype(float),jointable['Score'].values.astype(float))\n"
   ]
  },
  {
   "cell_type": "markdown",
   "metadata": {},
   "source": [
    "The HCAHPS data file contains linear mean scores for various survey questions filled out by the patient. These scores represent a patients satisfaction with different metrics like cleanliness, communication with the doctors and nurses, staff responsiveness, help with pain management, communication about medicines, discharge information, care transition and overall perception of the hopital.\n",
    "\n",
    "The data lacks values for some of these metrics for certain hospitals. this could be due to unavailability of survey data or because the sample size was too small. This hospitals that lack this data are eliminated from our study. We create a dataframe for the remaining hopitals by using the hospital name as an index."
   ]
  },
  {
   "cell_type": "code",
   "execution_count": 5,
   "metadata": {
    "collapsed": false
   },
   "outputs": [
    {
     "data": {
      "text/plain": [
       "Index([u'H_CLEAN_LINEAR_SCORE', u'H_COMP_1_LINEAR_SCORE',\n",
       "       u'H_COMP_2_LINEAR_SCORE', u'H_COMP_3_LINEAR_SCORE',\n",
       "       u'H_COMP_4_LINEAR_SCORE', u'H_COMP_5_LINEAR_SCORE',\n",
       "       u'H_COMP_6_LINEAR_SCORE', u'H_COMP_7_LINEAR_SCORE',\n",
       "       u'H_HSP_RATING_LINEAR_SCORE', u'H_QUIET_LINEAR_SCORE',\n",
       "       u'H_RECMND_LINEAR_SCORE'],\n",
       "      dtype='object')"
      ]
     },
     "execution_count": 5,
     "metadata": {},
     "output_type": "execute_result"
    }
   ],
   "source": [
    "tempnorf1=uvahsp[(uvahsp['HCAHPS Measure ID'].str.contains('_LINEAR_SCORE'))]\n",
    "tempnorf1=tempnorf1[tempnorf1['HCAHPS Linear Mean Value']!='Not Available']\n",
    "regcols=['Hospital Name']\n",
    "regcols=np.append(regcols,np.unique(tempnorf1['HCAHPS Measure ID']))\n",
    "regdata =pd.DataFrame(columns=regcols)\n",
    "temp2=np.array([])\n",
    "for key, groups in tempnorf1.groupby('Hospital Name'):\n",
    "    temp=np.array([])\n",
    "    for name in regcols[1:]:\n",
    "        temp=np.append(temp,groups[groups['HCAHPS Measure ID']==name]['HCAHPS Linear Mean Value'])\n",
    "        \n",
    "    temp=np.append([key],temp)\n",
    "    regdata=pd.concat([pd.DataFrame([temp],columns=regcols),regdata])\n",
    "    \n",
    "regdata.index=regdata['Hospital Name']\n",
    "regdata.drop('Hospital Name',axis=1,inplace=True)\n",
    "regdata.columns"
   ]
  },
  {
   "cell_type": "markdown",
   "metadata": {
    "collapsed": true
   },
   "source": [
    "The overall hospital rating is a value in the range [0-100]. For the hopitals surveyed in Virginia, the average value was around 85, with very little variace as seen in the bar graph plotted below."
   ]
  },
  {
   "cell_type": "code",
   "execution_count": 6,
   "metadata": {
    "collapsed": false
   },
   "outputs": [
    {
     "data": {
      "image/png": "[encoded data removed]",
      "text/plain": [
       "<matplotlib.figure.Figure at 0x1ef3e0b8>"
      ]
     },
     "metadata": {},
     "output_type": "display_data"
    }
   ],
   "source": [
    "plt.bar(np.arange(len(regdata['H_HSP_RATING_LINEAR_SCORE'])),regdata['H_HSP_RATING_LINEAR_SCORE'].astype(float))\n",
    "plt.ylabel('Hospital Overall Linear Score [0-100]')\n",
    "plt.show()\n"
   ]
  },
  {
   "cell_type": "markdown",
   "metadata": {},
   "source": [
    "Next, the corelations between the various variables was evaluated to observe the dependence of the overall rating to the individual rating measures. We can see from the table that the overall rating is strongly corelated to multiple variables. Additionally several of the input variables are strongly corelated to each other. This could potentially result in redundant features while building predictive models, and could increase the time complexity of such a predictive model."
   ]
  },
  {
   "cell_type": "code",
   "execution_count": 7,
   "metadata": {
    "collapsed": false
   },
   "outputs": [
    {
     "data": {
      "text/html": [
       "<div>\n",
       "<table border=\"1\" class=\"dataframe\">\n",
       "  <thead>\n",
       "    <tr style=\"text-align: right;\">\n",
       "      <th></th>\n",
       "      <th>H_CLEAN_LINEAR_SCORE</th>\n",
       "      <th>H_COMP_1_LINEAR_SCORE</th>\n",
       "      <th>H_COMP_2_LINEAR_SCORE</th>\n",
       "      <th>H_COMP_3_LINEAR_SCORE</th>\n",
       "      <th>H_COMP_4_LINEAR_SCORE</th>\n",
       "      <th>H_COMP_5_LINEAR_SCORE</th>\n",
       "      <th>H_COMP_6_LINEAR_SCORE</th>\n",
       "      <th>H_COMP_7_LINEAR_SCORE</th>\n",
       "      <th>H_HSP_RATING_LINEAR_SCORE</th>\n",
       "      <th>H_QUIET_LINEAR_SCORE</th>\n",
       "      <th>H_RECMND_LINEAR_SCORE</th>\n",
       "    </tr>\n",
       "  </thead>\n",
       "  <tbody>\n",
       "    <tr>\n",
       "      <th>H_CLEAN_LINEAR_SCORE</th>\n",
       "      <td>1.000000</td>\n",
       "      <td>0.533145</td>\n",
       "      <td>0.197543</td>\n",
       "      <td>0.533607</td>\n",
       "      <td>0.311328</td>\n",
       "      <td>0.353729</td>\n",
       "      <td>-0.085055</td>\n",
       "      <td>0.283188</td>\n",
       "      <td>0.249431</td>\n",
       "      <td>0.175466</td>\n",
       "      <td>0.218564</td>\n",
       "    </tr>\n",
       "    <tr>\n",
       "      <th>H_COMP_1_LINEAR_SCORE</th>\n",
       "      <td>0.533145</td>\n",
       "      <td>1.000000</td>\n",
       "      <td>0.589147</td>\n",
       "      <td>0.827624</td>\n",
       "      <td>0.728895</td>\n",
       "      <td>0.711936</td>\n",
       "      <td>0.400096</td>\n",
       "      <td>0.690506</td>\n",
       "      <td>0.657659</td>\n",
       "      <td>0.285211</td>\n",
       "      <td>0.571382</td>\n",
       "    </tr>\n",
       "    <tr>\n",
       "      <th>H_COMP_2_LINEAR_SCORE</th>\n",
       "      <td>0.197543</td>\n",
       "      <td>0.589147</td>\n",
       "      <td>1.000000</td>\n",
       "      <td>0.584082</td>\n",
       "      <td>0.549532</td>\n",
       "      <td>0.639773</td>\n",
       "      <td>0.458799</td>\n",
       "      <td>0.393650</td>\n",
       "      <td>0.550537</td>\n",
       "      <td>0.455901</td>\n",
       "      <td>0.342776</td>\n",
       "    </tr>\n",
       "    <tr>\n",
       "      <th>H_COMP_3_LINEAR_SCORE</th>\n",
       "      <td>0.533607</td>\n",
       "      <td>0.827624</td>\n",
       "      <td>0.584082</td>\n",
       "      <td>1.000000</td>\n",
       "      <td>0.637793</td>\n",
       "      <td>0.709921</td>\n",
       "      <td>0.348677</td>\n",
       "      <td>0.558217</td>\n",
       "      <td>0.541781</td>\n",
       "      <td>0.327027</td>\n",
       "      <td>0.348224</td>\n",
       "    </tr>\n",
       "    <tr>\n",
       "      <th>H_COMP_4_LINEAR_SCORE</th>\n",
       "      <td>0.311328</td>\n",
       "      <td>0.728895</td>\n",
       "      <td>0.549532</td>\n",
       "      <td>0.637793</td>\n",
       "      <td>1.000000</td>\n",
       "      <td>0.597920</td>\n",
       "      <td>0.364832</td>\n",
       "      <td>0.629483</td>\n",
       "      <td>0.661189</td>\n",
       "      <td>0.347301</td>\n",
       "      <td>0.545067</td>\n",
       "    </tr>\n",
       "    <tr>\n",
       "      <th>H_COMP_5_LINEAR_SCORE</th>\n",
       "      <td>0.353729</td>\n",
       "      <td>0.711936</td>\n",
       "      <td>0.639773</td>\n",
       "      <td>0.709921</td>\n",
       "      <td>0.597920</td>\n",
       "      <td>1.000000</td>\n",
       "      <td>0.440415</td>\n",
       "      <td>0.479781</td>\n",
       "      <td>0.537267</td>\n",
       "      <td>0.356477</td>\n",
       "      <td>0.341828</td>\n",
       "    </tr>\n",
       "    <tr>\n",
       "      <th>H_COMP_6_LINEAR_SCORE</th>\n",
       "      <td>-0.085055</td>\n",
       "      <td>0.400096</td>\n",
       "      <td>0.458799</td>\n",
       "      <td>0.348677</td>\n",
       "      <td>0.364832</td>\n",
       "      <td>0.440415</td>\n",
       "      <td>1.000000</td>\n",
       "      <td>0.500931</td>\n",
       "      <td>0.553047</td>\n",
       "      <td>0.193248</td>\n",
       "      <td>0.458478</td>\n",
       "    </tr>\n",
       "    <tr>\n",
       "      <th>H_COMP_7_LINEAR_SCORE</th>\n",
       "      <td>0.283188</td>\n",
       "      <td>0.690506</td>\n",
       "      <td>0.393650</td>\n",
       "      <td>0.558217</td>\n",
       "      <td>0.629483</td>\n",
       "      <td>0.479781</td>\n",
       "      <td>0.500931</td>\n",
       "      <td>1.000000</td>\n",
       "      <td>0.726594</td>\n",
       "      <td>0.133590</td>\n",
       "      <td>0.804529</td>\n",
       "    </tr>\n",
       "    <tr>\n",
       "      <th>H_HSP_RATING_LINEAR_SCORE</th>\n",
       "      <td>0.249431</td>\n",
       "      <td>0.657659</td>\n",
       "      <td>0.550537</td>\n",
       "      <td>0.541781</td>\n",
       "      <td>0.661189</td>\n",
       "      <td>0.537267</td>\n",
       "      <td>0.553047</td>\n",
       "      <td>0.726594</td>\n",
       "      <td>1.000000</td>\n",
       "      <td>0.399329</td>\n",
       "      <td>0.860315</td>\n",
       "    </tr>\n",
       "    <tr>\n",
       "      <th>H_QUIET_LINEAR_SCORE</th>\n",
       "      <td>0.175466</td>\n",
       "      <td>0.285211</td>\n",
       "      <td>0.455901</td>\n",
       "      <td>0.327027</td>\n",
       "      <td>0.347301</td>\n",
       "      <td>0.356477</td>\n",
       "      <td>0.193248</td>\n",
       "      <td>0.133590</td>\n",
       "      <td>0.399329</td>\n",
       "      <td>1.000000</td>\n",
       "      <td>0.129237</td>\n",
       "    </tr>\n",
       "    <tr>\n",
       "      <th>H_RECMND_LINEAR_SCORE</th>\n",
       "      <td>0.218564</td>\n",
       "      <td>0.571382</td>\n",
       "      <td>0.342776</td>\n",
       "      <td>0.348224</td>\n",
       "      <td>0.545067</td>\n",
       "      <td>0.341828</td>\n",
       "      <td>0.458478</td>\n",
       "      <td>0.804529</td>\n",
       "      <td>0.860315</td>\n",
       "      <td>0.129237</td>\n",
       "      <td>1.000000</td>\n",
       "    </tr>\n",
       "  </tbody>\n",
       "</table>\n",
       "</div>"
      ],
      "text/plain": [
       "                           H_CLEAN_LINEAR_SCORE  H_COMP_1_LINEAR_SCORE  \\\n",
       "H_CLEAN_LINEAR_SCORE                   1.000000               0.533145   \n",
       "H_COMP_1_LINEAR_SCORE                  0.533145               1.000000   \n",
       "H_COMP_2_LINEAR_SCORE                  0.197543               0.589147   \n",
       "H_COMP_3_LINEAR_SCORE                  0.533607               0.827624   \n",
       "H_COMP_4_LINEAR_SCORE                  0.311328               0.728895   \n",
       "H_COMP_5_LINEAR_SCORE                  0.353729               0.711936   \n",
       "H_COMP_6_LINEAR_SCORE                 -0.085055               0.400096   \n",
       "H_COMP_7_LINEAR_SCORE                  0.283188               0.690506   \n",
       "H_HSP_RATING_LINEAR_SCORE              0.249431               0.657659   \n",
       "H_QUIET_LINEAR_SCORE                   0.175466               0.285211   \n",
       "H_RECMND_LINEAR_SCORE                  0.218564               0.571382   \n",
       "\n",
       "                           H_COMP_2_LINEAR_SCORE  H_COMP_3_LINEAR_SCORE  \\\n",
       "H_CLEAN_LINEAR_SCORE                    0.197543               0.533607   \n",
       "H_COMP_1_LINEAR_SCORE                   0.589147               0.827624   \n",
       "H_COMP_2_LINEAR_SCORE                   1.000000               0.584082   \n",
       "H_COMP_3_LINEAR_SCORE                   0.584082               1.000000   \n",
       "H_COMP_4_LINEAR_SCORE                   0.549532               0.637793   \n",
       "H_COMP_5_LINEAR_SCORE                   0.639773               0.709921   \n",
       "H_COMP_6_LINEAR_SCORE                   0.458799               0.348677   \n",
       "H_COMP_7_LINEAR_SCORE                   0.393650               0.558217   \n",
       "H_HSP_RATING_LINEAR_SCORE               0.550537               0.541781   \n",
       "H_QUIET_LINEAR_SCORE                    0.455901               0.327027   \n",
       "H_RECMND_LINEAR_SCORE                   0.342776               0.348224   \n",
       "\n",
       "                           H_COMP_4_LINEAR_SCORE  H_COMP_5_LINEAR_SCORE  \\\n",
       "H_CLEAN_LINEAR_SCORE                    0.311328               0.353729   \n",
       "H_COMP_1_LINEAR_SCORE                   0.728895               0.711936   \n",
       "H_COMP_2_LINEAR_SCORE                   0.549532               0.639773   \n",
       "H_COMP_3_LINEAR_SCORE                   0.637793               0.709921   \n",
       "H_COMP_4_LINEAR_SCORE                   1.000000               0.597920   \n",
       "H_COMP_5_LINEAR_SCORE                   0.597920               1.000000   \n",
       "H_COMP_6_LINEAR_SCORE                   0.364832               0.440415   \n",
       "H_COMP_7_LINEAR_SCORE                   0.629483               0.479781   \n",
       "H_HSP_RATING_LINEAR_SCORE               0.661189               0.537267   \n",
       "H_QUIET_LINEAR_SCORE                    0.347301               0.356477   \n",
       "H_RECMND_LINEAR_SCORE                   0.545067               0.341828   \n",
       "\n",
       "                           H_COMP_6_LINEAR_SCORE  H_COMP_7_LINEAR_SCORE  \\\n",
       "H_CLEAN_LINEAR_SCORE                   -0.085055               0.283188   \n",
       "H_COMP_1_LINEAR_SCORE                   0.400096               0.690506   \n",
       "H_COMP_2_LINEAR_SCORE                   0.458799               0.393650   \n",
       "H_COMP_3_LINEAR_SCORE                   0.348677               0.558217   \n",
       "H_COMP_4_LINEAR_SCORE                   0.364832               0.629483   \n",
       "H_COMP_5_LINEAR_SCORE                   0.440415               0.479781   \n",
       "H_COMP_6_LINEAR_SCORE                   1.000000               0.500931   \n",
       "H_COMP_7_LINEAR_SCORE                   0.500931               1.000000   \n",
       "H_HSP_RATING_LINEAR_SCORE               0.553047               0.726594   \n",
       "H_QUIET_LINEAR_SCORE                    0.193248               0.133590   \n",
       "H_RECMND_LINEAR_SCORE                   0.458478               0.804529   \n",
       "\n",
       "                           H_HSP_RATING_LINEAR_SCORE  H_QUIET_LINEAR_SCORE  \\\n",
       "H_CLEAN_LINEAR_SCORE                        0.249431              0.175466   \n",
       "H_COMP_1_LINEAR_SCORE                       0.657659              0.285211   \n",
       "H_COMP_2_LINEAR_SCORE                       0.550537              0.455901   \n",
       "H_COMP_3_LINEAR_SCORE                       0.541781              0.327027   \n",
       "H_COMP_4_LINEAR_SCORE                       0.661189              0.347301   \n",
       "H_COMP_5_LINEAR_SCORE                       0.537267              0.356477   \n",
       "H_COMP_6_LINEAR_SCORE                       0.553047              0.193248   \n",
       "H_COMP_7_LINEAR_SCORE                       0.726594              0.133590   \n",
       "H_HSP_RATING_LINEAR_SCORE                   1.000000              0.399329   \n",
       "H_QUIET_LINEAR_SCORE                        0.399329              1.000000   \n",
       "H_RECMND_LINEAR_SCORE                       0.860315              0.129237   \n",
       "\n",
       "                           H_RECMND_LINEAR_SCORE  \n",
       "H_CLEAN_LINEAR_SCORE                    0.218564  \n",
       "H_COMP_1_LINEAR_SCORE                   0.571382  \n",
       "H_COMP_2_LINEAR_SCORE                   0.342776  \n",
       "H_COMP_3_LINEAR_SCORE                   0.348224  \n",
       "H_COMP_4_LINEAR_SCORE                   0.545067  \n",
       "H_COMP_5_LINEAR_SCORE                   0.341828  \n",
       "H_COMP_6_LINEAR_SCORE                   0.458478  \n",
       "H_COMP_7_LINEAR_SCORE                   0.804529  \n",
       "H_HSP_RATING_LINEAR_SCORE               0.860315  \n",
       "H_QUIET_LINEAR_SCORE                    0.129237  \n",
       "H_RECMND_LINEAR_SCORE                   1.000000  "
      ]
     },
     "execution_count": 7,
     "metadata": {},
     "output_type": "execute_result"
    }
   ],
   "source": [
    "regdata=regdata.astype(float)\n",
    "regdata.corr()"
   ]
  },
  {
   "cell_type": "markdown",
   "metadata": {},
   "source": [
    "## Predicting Overall Rating using various Regression methods"
   ]
  },
  {
   "cell_type": "markdown",
   "metadata": {},
   "source": [
    "In this section we will take a look at the available regression methods to compare their predictive performance when predicting the overall hospital rating from a selected list of input features.\n",
    "\n",
    "The first method used is the Ridge regression method for different degrees of regression. There are 8 input features, with the overall hospital rating being the output variable of interest. The score/prediction accuracy for different degrees of regression is also displayed below.\n",
    "\n",
    "The first and second order regression produced underwhelming fits for the data. This was surprising since most of the imput features showed a strong corelation to the output variable. \n",
    "\n",
    "I then considered higher orders of polynomial regression, and these seemed to produce a near accurate fit to the data. THe fifth degree regression produced an almost 100% accuracy. This level of accuracy can be suspect as it might have been a case of overfitting the data, since the training and testing sets were the same."
   ]
  },
  {
   "cell_type": "code",
   "execution_count": 16,
   "metadata": {
    "collapsed": false
   },
   "outputs": [
    {
     "name": "stdout",
     "output_type": "stream",
     "text": [
      "The score for degree 1 is 0.595104476528\n",
      "The score for degree 2 is 0.695589447144\n",
      "The score for degree 3 is 0.997200476299\n",
      "The score for degree 4 is 0.99999999825\n",
      "The score for degree 5 is 0.999999999795\n"
     ]
    }
   ],
   "source": [
    "for degree in [1,2,3,4,5]:\n",
    "    model =make_pipeline(PolynomialFeatures(degree),Ridge())\n",
    "    model.fit(regdata.iloc[:,0:7],regdata.iloc[:,8])\n",
    "    print 'The score for degree %d'%degree, 'is',model.score(regdata.iloc[:,0:7],regdata.iloc[:,8])"
   ]
  },
  {
   "cell_type": "markdown",
   "metadata": {},
   "source": [
    "The next regression methods used are from the random forest families. These methods create multiple trees from the input feature set and try to predict the output by creating splits in the input features for best performance. The RandomForest Regressor, and ExtraTreesRegressor had an underwhelming performance accuracy of about 35%.\n",
    "\n",
    "This was expected, since random forests are usually found to be lacking when dealing with strictly linear problems. A random forest of nearly infinite (very large) number of trees could theoretically produce an excellent fit, but the time complexity of sucha large tree is not worth the increase in performance."
   ]
  },
  {
   "cell_type": "code",
   "execution_count": 9,
   "metadata": {
    "collapsed": false
   },
   "outputs": [
    {
     "data": {
      "text/plain": [
       "0.33392594705882084"
      ]
     },
     "execution_count": 9,
     "metadata": {},
     "output_type": "execute_result"
    }
   ],
   "source": [
    "rdg=RandomForestRegressor(n_estimators=100,oob_score=True)\n",
    "rdg.fit(regdata.iloc[:,0:7],regdata.iloc[:,8])\n",
    "rdg.oob_score_"
   ]
  },
  {
   "cell_type": "code",
   "execution_count": 10,
   "metadata": {
    "collapsed": false
   },
   "outputs": [
    {
     "data": {
      "text/plain": [
       "0.38413454299956062"
      ]
     },
     "execution_count": 10,
     "metadata": {},
     "output_type": "execute_result"
    }
   ],
   "source": [
    "exrdg = ExtraTreesRegressor(n_estimators=100,oob_score=True,bootstrap=True)\n",
    "exrdg.fit(regdata.iloc[:,0:7],regdata.iloc[:,8])\n",
    "exrdg.oob_score_"
   ]
  },
  {
   "cell_type": "markdown",
   "metadata": {},
   "source": [
    "The final Regression method used is the AdaBoostRegressor. This regressor implements the adaptive boosting algorithm to make predictions. It is similar in concept to the random forest method, but it uses the adaptive boosting method to select features for training. AdaBoost creates multiple weak learners and uses a weighted sum of their outputs to predict the final output. At each stage the mis classified training samples are given more weight while retraining the network.\n",
    "\n",
    "We can observe the increase in performance when compared to the random forest models, as the adaboost model produces an 82% accuracy. The downside to adaboost is that it can overfit the data sometimes. It also provides us with a feature importance vector that estimates the amount of variance explained by each of the input variables, as displayed below."
   ]
  },
  {
   "cell_type": "code",
   "execution_count": 11,
   "metadata": {
    "collapsed": false
   },
   "outputs": [
    {
     "data": {
      "text/plain": [
       "0.8265820922994751"
      ]
     },
     "execution_count": 11,
     "metadata": {},
     "output_type": "execute_result"
    }
   ],
   "source": [
    "abr=AdaBoostRegressor(n_estimators=100)\n",
    "abr.fit(regdata.iloc[:,0:7],regdata.iloc[:,8])\n",
    "abr.score(regdata.iloc[:,0:7],regdata.iloc[:,8])"
   ]
  },
  {
   "cell_type": "code",
   "execution_count": 12,
   "metadata": {
    "collapsed": false
   },
   "outputs": [
    {
     "data": {
      "text/plain": [
       "array([ 0.0568186 ,  0.21880983,  0.03153486,  0.18641086,  0.26513569,\n",
       "        0.07532763,  0.16596253])"
      ]
     },
     "execution_count": 12,
     "metadata": {},
     "output_type": "execute_result"
    }
   ],
   "source": [
    "abr.feature_importances_"
   ]
  },
  {
   "cell_type": "markdown",
   "metadata": {},
   "source": [
    "### Measuring model performance on a new data set"
   ]
  },
  {
   "cell_type": "markdown",
   "metadata": {},
   "source": [
    "In the previous section we observed how the Polynomial Regression model and the AdaBoost model provided the best fit for our data. In this section we will use those models on a new data set and observe their relative performance. For demonstrative purposes, I have selected the HCAHPS data for North Carolina to evaluate the models."
   ]
  },
  {
   "cell_type": "code",
   "execution_count": 13,
   "metadata": {
    "collapsed": false
   },
   "outputs": [],
   "source": [
    "nchsp = hcahsp[(hcahsp['State'] == 'NC')]\n",
    "tempnc=nchsp[(nchsp['HCAHPS Measure ID'].str.contains('_LINEAR_SCORE'))]\n",
    "tempnc=tempnc[tempnc['HCAHPS Linear Mean Value']!='Not Available']\n",
    "regcols2=['Hospital Name']\n",
    "regcols2=np.append(regcols2,np.unique(tempnc['HCAHPS Measure ID']))\n",
    "regdata2 =pd.DataFrame(columns=regcols2)\n",
    "temp2=np.array([])\n",
    "for key, groups in tempnc.groupby('Hospital Name'):\n",
    "    temp=np.array([])\n",
    "    for name in regcols2[1:]:\n",
    "        temp=np.append(temp,groups[groups['HCAHPS Measure ID']==name]['HCAHPS Linear Mean Value'])\n",
    "        \n",
    "    temp=np.append([key],temp)\n",
    "    regdata2=pd.concat([pd.DataFrame([temp],columns=regcols2),regdata2])\n",
    "    \n",
    "regdata2.index=regdata2['Hospital Name']\n",
    "regdata2.drop('Hospital Name',axis=1,inplace=True)\n",
    "regdata2=regdata2.astype(float)"
   ]
  },
  {
   "cell_type": "markdown",
   "metadata": {},
   "source": [
    "The new data is now fed to the old ridge regression model and the AdaBoost model for evaluation. The scores for these models are presented below.\n",
    "\n",
    "We can observe that the first degree model only has an accuracy of 50%.It is even more surprising to see that the higher order models produce essentially garbage values. This could be because the polynomial models are based off of the polynomial values of the previous data set, and these values are probably meaningless for the current data set. This strengthens our suspisions of the polynomial models overfitting the data.\n",
    "\n",
    "The AdaBoost model also produces a model that has an accuracy similar to the linear regression model."
   ]
  },
  {
   "cell_type": "code",
   "execution_count": 14,
   "metadata": {
    "collapsed": false
   },
   "outputs": [
    {
     "name": "stdout",
     "output_type": "stream",
     "text": [
      "The score for degree 1 is 0.578934871443\n",
      "The score for degree 2 is 0.0611097219568\n",
      "The score for degree 3 is -24.0481539701\n",
      "The score for degree 4 is -70.8876551912\n",
      "The score for degree 5 is -67.4072682423\n"
     ]
    }
   ],
   "source": [
    "for degree in [1,2,3,4,5]:\n",
    "    model =make_pipeline(PolynomialFeatures(degree),Ridge())\n",
    "    model.fit(regdata.iloc[:,0:7],regdata.iloc[:,8])\n",
    "    print 'The score for degree %d'%degree, 'is',model.score(regdata2.iloc[:,0:7],regdata2.iloc[:,8])"
   ]
  },
  {
   "cell_type": "code",
   "execution_count": 15,
   "metadata": {
    "collapsed": false
   },
   "outputs": [
    {
     "data": {
      "text/plain": [
       "0.59768266649975699"
      ]
     },
     "execution_count": 15,
     "metadata": {},
     "output_type": "execute_result"
    }
   ],
   "source": [
    "abr.score(regdata2.iloc[:,0:7],regdata2.iloc[:,8])"
   ]
  },
  {
   "cell_type": "code",
   "execution_count": 26,
   "metadata": {
    "collapsed": false
   },
   "outputs": [
    {
     "data": {
      "text/plain": [
       "0.76327673948610386"
      ]
     },
     "execution_count": 26,
     "metadata": {},
     "output_type": "execute_result"
    }
   ],
   "source": [
    "abr=AdaBoostRegressor(n_estimators=100)\n",
    "selector=RFE(abr, n_features_to_select=5)\n",
    "selector = selector.fit(regdata2.iloc[:,0:7],regdata2.iloc[:,8])\n",
    "selector.score(regdata2.iloc[:,0:7],regdata2.iloc[:,8])"
   ]
  },
  {
   "cell_type": "markdown",
   "metadata": {},
   "source": [
    "##Conclusion and Discussion"
   ]
  },
  {
   "cell_type": "markdown",
   "metadata": {},
   "source": [
    "In this study, we tried to capture the dependence of the overall hospital rating on various survey metrics filled out by patients. Multiple predictive models were built to capture this effect. These models displayed an average prediction accuracy, suggesting we might need to include additional variables or remove certaing existing variables using feature extraction. \n",
    "\n",
    "The regression coefficients seem to suggest that a patients communication with doctors and nurses seemed to have the highest impact on the overall rating of the hospital.\n",
    "\n",
    "In the beginning sections of the study we also looked into the relationship between the 30-day readmission rates and the overall hospital rating. However, there were no strong corelations between the two variables. A further analysis could be done by comparing the timely care given to patients and the associated readmisiion rates for different types of diseases. The data required for this analysis is available in the Hospital Compare data set."
   ]
  }
 ],
 "metadata": {
  "kernelspec": {
   "display_name": "Python 2",
   "language": "python",
   "name": "python2"
  },
  "language_info": {
   "codemirror_mode": {
    "name": "ipython",
    "version": 2
   },
   "file_extension": ".py",
   "mimetype": "text/x-python",
   "name": "python",
   "nbconvert_exporter": "python",
   "pygments_lexer": "ipython2",
   "version": "2.7.11"
  }
 },
 "nbformat": 4,
 "nbformat_minor": 0
}
