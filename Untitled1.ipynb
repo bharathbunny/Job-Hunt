{
 "cells": [
  {
   "cell_type": "code",
   "execution_count": 1,
   "metadata": {
    "collapsed": false
   },
   "outputs": [],
   "source": [
    "import pandas as pd\n",
    "import numpy as np\n",
    "import csv as csv\n",
    "import matplotlib.pyplot as plt\n",
    "import sys\n",
    "import sqlite3\n",
    "%matplotlib inline"
   ]
  },
  {
   "cell_type": "code",
   "execution_count": 3,
   "metadata": {
    "collapsed": false
   },
   "outputs": [],
   "source": [
    "con=sqlite3.connect('ss13husa.db')\n",
    "cur=con.cursor()\n",
    "#rows1 = cur.execute(\"select * from ss13husa where ss13husa.FAGSP = 1 ;\")\n",
    "#temp1 =pd.DataFrame(rows1.fetchall(),columns=list(map(lambda x: x[0], cur.description)))\n",
    "#rows2 = cur.execute(\"select * from ss13husa,ss13pusa where ss13husa.FAGSP = 1 and ss13husa.SERIALNO=ss13pusa.SERIALNO;\")\n",
    "#temp2 = pd.DataFrame(rows2.fetchall(),columns=list(map(lambda x: x[0], cur.description)))\n",
    "con.close()"
   ]
  },
  {
   "cell_type": "code",
   "execution_count": null,
   "metadata": {
    "collapsed": false
   },
   "outputs": [],
   "source": []
  },
  {
   "cell_type": "code",
   "execution_count": 2,
   "metadata": {
    "collapsed": false
   },
   "outputs": [],
   "source": [
    "con=sqlite3.connect('ss13husa.db')\n",
    "cur=con.cursor()\n",
    "rows = cur.execute(\"select * from temp ;\")\n",
    "temp =pd.DataFrame(rows.fetchall(),columns=list(map(lambda x: x[0], cur.description)))\n",
    "con.close()"
   ]
  },
  {
   "cell_type": "markdown",
   "metadata": {
    "collapsed": false
   },
   "source": [
    "Age distribution of the sample for people of farming households"
   ]
  },
  {
   "cell_type": "code",
   "execution_count": 8,
   "metadata": {
    "collapsed": false
   },
   "outputs": [
    {
     "data": {
      "image/png": "[encoded data removed]",
      "text/plain": [
       "<matplotlib.figure.Figure at 0x213f160>"
      ]
     },
     "metadata": {},
     "output_type": "display_data"
    }
   ],
   "source": [
    "temp['AGEP'].plot(kind='hist')\n",
    "plt.show()\n"
   ]
  },
  {
   "cell_type": "code",
   "execution_count": 19,
   "metadata": {
    "collapsed": false
   },
   "outputs": [
    {
     "name": "stdout",
     "output_type": "stream",
     "text": [
      "1.0\n",
      "26\n",
      "2.0\n",
      "10\n",
      "3.0\n",
      "17\n",
      "4.0\n",
      "14\n",
      "5.0\n",
      "3\n",
      "6.0\n",
      "8\n",
      "7.0\n",
      "3\n",
      "8.0\n",
      "1\n",
      "9.0\n",
      "1\n"
     ]
    }
   ],
   "source": [
    "for key, group in temp.groupby('COW'):\n",
    "    print key\n",
    "    print max(group['FOD1P'].value_counts() ) #sum(group['PWGTP'])\n",
    "    #group['FOD1P'].plot(kind='hist')"
   ]
  },
  {
   "cell_type": "code",
   "execution_count": 24,
   "metadata": {
    "collapsed": false
   },
   "outputs": [
    {
     "data": {
      "text/plain": [
       "array([ 1.,  5.,  6.,  2.,  3.,  4.])"
      ]
     },
     "execution_count": 24,
     "metadata": {},
     "output_type": "execute_result"
    }
   ],
   "source": [
    "temp['AGS'].unique()"
   ]
  }
 ],
 "metadata": {
  "kernelspec": {
   "display_name": "Python 2",
   "language": "python",
   "name": "python2"
  },
  "language_info": {
   "codemirror_mode": {
    "name": "ipython",
    "version": 2
   },
   "file_extension": ".py",
   "mimetype": "text/x-python",
   "name": "python",
   "nbconvert_exporter": "python",
   "pygments_lexer": "ipython2",
   "version": "2.7.9"
  }
 },
 "nbformat": 4,
 "nbformat_minor": 0
}
